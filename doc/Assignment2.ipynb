{
 "cells": [
  {
   "cell_type": "markdown",
   "metadata": {},
   "source": [
    "# Assignment 2\n",
    "**Sunil Simha**"
   ]
  },
  {
   "cell_type": "code",
   "execution_count": 146,
   "metadata": {},
   "outputs": [],
   "source": [
    "import numpy as np\n",
    "import matplotlib.pyplot as plt\n",
    "from scipy.interpolate import interp1d\n",
    "\n",
    "from astropy.io import fits\n",
    "from astropy.table import Table\n",
    "from astropy import units as u\n",
    "from astropy.constants import h, c\n",
    "\n",
    "from importlib import reload\n",
    "from instrumentsim.filters import transcurve as tc\n",
    "from instrumentsim import ccd\n",
    "\n",
    "from photutils.detection import IRAFStarFinder\n",
    "from photutils.psf import IntegratedGaussianPRF, DAOGroup, IterativelySubtractedPSFPhotometry\n",
    "from photutils.background import MMMBackground, MADStdBackgroundRMS\n",
    "from astropy.modeling.fitting import LevMarLSQFitter\n",
    "from astropy.stats import gaussian_sigma_to_fwhm"
   ]
  },
  {
   "cell_type": "code",
   "execution_count": 117,
   "metadata": {},
   "outputs": [],
   "source": [
    "plt.rcParams['font.size'] = 16"
   ]
  },
  {
   "cell_type": "markdown",
   "metadata": {},
   "source": [
    "## Part 1:  Predicting observed counts from an astrophysical source\n",
    "### 1. Synthetic photometry\n",
    "\n",
    "Measuring the magnitudes of HG205905 with different filters. I'm using the Transmission_curve class I've defined in the repository for this purpose."
   ]
  },
  {
   "cell_type": "code",
   "execution_count": 4,
   "metadata": {},
   "outputs": [
    {
     "data": {
      "text/html": [
       "<i>Table length=6261</i>\n",
       "<table id=\"table139989520978000\" class=\"table-striped table-bordered table-condensed\">\n",
       "<thead><tr><th>WAVELENGTH</th><th>FLUX</th><th>STATERROR</th><th>SYSERROR</th><th>FWHM</th><th>DATAQUAL</th><th>TOTEXP</th></tr></thead>\n",
       "<thead><tr><th>ANGSTROMS</th><th>FLAM</th><th>FLAM</th><th>FLAM</th><th>ANGSTROMS</th><th>NONE</th><th>SEC</th></tr></thead>\n",
       "<thead><tr><th>float64</th><th>float32</th><th>float32</th><th>float32</th><th>float32</th><th>int16</th><th>float32</th></tr></thead>\n",
       "<tr><td>1711</td><td>3.4566e-14</td><td>1.1034e-14</td><td>3.4566e-16</td><td>2.7</td><td>1</td><td>7.5e+02</td></tr>\n",
       "<tr><td>1712</td><td>1.0601e-14</td><td>1.1230e-14</td><td>1.0601e-16</td><td>2.7</td><td>1</td><td>7.5e+02</td></tr>\n",
       "<tr><td>1714</td><td>1.0811e-14</td><td>1.0583e-14</td><td>1.0811e-16</td><td>2.7</td><td>1</td><td>7.5e+02</td></tr>\n",
       "<tr><td>1715</td><td>1.1485e-14</td><td>1.0360e-14</td><td>1.1485e-16</td><td>2.7</td><td>1</td><td>7.5e+02</td></tr>\n",
       "<tr><td>1716</td><td>7.7030e-15</td><td>1.0077e-14</td><td>7.7030e-17</td><td>2.7</td><td>1</td><td>7.5e+02</td></tr>\n",
       "<tr><td>1718</td><td>-8.5711e-15</td><td>9.7486e-15</td><td>8.5711e-17</td><td>2.7</td><td>1</td><td>7.5e+02</td></tr>\n",
       "<tr><td>1719</td><td>-2.0622e-15</td><td>9.6630e-15</td><td>2.0622e-17</td><td>2.7</td><td>1</td><td>7.5e+02</td></tr>\n",
       "<tr><td>1721</td><td>1.0589e-14</td><td>9.6909e-15</td><td>1.0589e-16</td><td>2.7</td><td>1</td><td>7.5e+02</td></tr>\n",
       "<tr><td>1722</td><td>7.5148e-17</td><td>1.7803e-14</td><td>7.5148e-19</td><td>2.7</td><td>1</td><td>7.5e+02</td></tr>\n",
       "<tr><td>...</td><td>...</td><td>...</td><td>...</td><td>...</td><td>...</td><td>...</td></tr>\n",
       "<tr><td>3.161e+05</td><td>9.5688e-18</td><td>0.0000e+00</td><td>1.9138e-19</td><td>3.2e+02</td><td>1</td><td>0</td></tr>\n",
       "<tr><td>3.164e+05</td><td>9.5309e-18</td><td>0.0000e+00</td><td>1.9062e-19</td><td>3.2e+02</td><td>1</td><td>0</td></tr>\n",
       "<tr><td>3.167e+05</td><td>9.4929e-18</td><td>0.0000e+00</td><td>1.8986e-19</td><td>3.2e+02</td><td>1</td><td>0</td></tr>\n",
       "<tr><td>3.17e+05</td><td>9.4550e-18</td><td>0.0000e+00</td><td>1.8910e-19</td><td>3.2e+02</td><td>1</td><td>0</td></tr>\n",
       "<tr><td>3.173e+05</td><td>9.4172e-18</td><td>0.0000e+00</td><td>1.8834e-19</td><td>3.2e+02</td><td>1</td><td>0</td></tr>\n",
       "<tr><td>3.176e+05</td><td>9.3796e-18</td><td>0.0000e+00</td><td>1.8759e-19</td><td>3.2e+02</td><td>1</td><td>0</td></tr>\n",
       "<tr><td>3.18e+05</td><td>9.3422e-18</td><td>0.0000e+00</td><td>1.8684e-19</td><td>3.2e+02</td><td>1</td><td>0</td></tr>\n",
       "<tr><td>3.183e+05</td><td>9.3049e-18</td><td>0.0000e+00</td><td>1.8610e-19</td><td>3.2e+02</td><td>1</td><td>0</td></tr>\n",
       "<tr><td>3.186e+05</td><td>9.2674e-18</td><td>0.0000e+00</td><td>1.8535e-19</td><td>3.2e+02</td><td>1</td><td>0</td></tr>\n",
       "<tr><td>3.189e+05</td><td>9.2292e-18</td><td>0.0000e+00</td><td>1.8458e-19</td><td>3.2e+02</td><td>1</td><td>0</td></tr>\n",
       "</table>"
      ],
      "text/plain": [
       "<Table length=6261>\n",
       "WAVELENGTH     FLUX      STATERROR     SYSERROR      FWHM   DATAQUAL   TOTEXP  \n",
       "ANGSTROMS      FLAM         FLAM         FLAM     ANGSTROMS   NONE      SEC    \n",
       " float64     float32      float32      float32     float32   int16    float32  \n",
       "---------- ------------ ------------ ------------ --------- -------- ----------\n",
       "      1711   3.4566e-14   1.1034e-14   3.4566e-16       2.7        1    7.5e+02\n",
       "      1712   1.0601e-14   1.1230e-14   1.0601e-16       2.7        1    7.5e+02\n",
       "      1714   1.0811e-14   1.0583e-14   1.0811e-16       2.7        1    7.5e+02\n",
       "      1715   1.1485e-14   1.0360e-14   1.1485e-16       2.7        1    7.5e+02\n",
       "      1716   7.7030e-15   1.0077e-14   7.7030e-17       2.7        1    7.5e+02\n",
       "      1718  -8.5711e-15   9.7486e-15   8.5711e-17       2.7        1    7.5e+02\n",
       "      1719  -2.0622e-15   9.6630e-15   2.0622e-17       2.7        1    7.5e+02\n",
       "      1721   1.0589e-14   9.6909e-15   1.0589e-16       2.7        1    7.5e+02\n",
       "      1722   7.5148e-17   1.7803e-14   7.5148e-19       2.7        1    7.5e+02\n",
       "       ...          ...          ...          ...       ...      ...        ...\n",
       " 3.161e+05   9.5688e-18   0.0000e+00   1.9138e-19   3.2e+02        1          0\n",
       " 3.164e+05   9.5309e-18   0.0000e+00   1.9062e-19   3.2e+02        1          0\n",
       " 3.167e+05   9.4929e-18   0.0000e+00   1.8986e-19   3.2e+02        1          0\n",
       "  3.17e+05   9.4550e-18   0.0000e+00   1.8910e-19   3.2e+02        1          0\n",
       " 3.173e+05   9.4172e-18   0.0000e+00   1.8834e-19   3.2e+02        1          0\n",
       " 3.176e+05   9.3796e-18   0.0000e+00   1.8759e-19   3.2e+02        1          0\n",
       "  3.18e+05   9.3422e-18   0.0000e+00   1.8684e-19   3.2e+02        1          0\n",
       " 3.183e+05   9.3049e-18   0.0000e+00   1.8610e-19   3.2e+02        1          0\n",
       " 3.186e+05   9.2674e-18   0.0000e+00   1.8535e-19   3.2e+02        1          0\n",
       " 3.189e+05   9.2292e-18   0.0000e+00   1.8458e-19   3.2e+02        1          0"
      ]
     },
     "execution_count": 4,
     "metadata": {},
     "output_type": "execute_result"
    }
   ],
   "source": [
    "# First read in the spectrum\n",
    "spectab = Table.read(\"../instrumentsim/data/hd205905_stis_005.fits\",hdu=1)\n",
    "spectab"
   ]
  },
  {
   "cell_type": "code",
   "execution_count": 23,
   "metadata": {},
   "outputs": [
    {
     "data": {
      "image/png": "[encoded data removed]",
      "text/plain": [
       "<Figure size 432x288 with 1 Axes>"
      ]
     },
     "metadata": {
      "needs_background": "light"
     },
     "output_type": "display_data"
    }
   ],
   "source": [
    "# Visualize the spectrum\n",
    "plt.plot(spectab['WAVELENGTH'], spectab['FLUX'])\n",
    "plt.xlabel(r\"$\\rm \\lambda~(\\AA)$\")\n",
    "plt.ylabel(r\"$\\rm F_\\lambda~erg~s^{-1}cm^{-2}\\AA^{-1}$\")\n",
    "plt.xlim(0, 20000)\n",
    "plt.show()"
   ]
  },
  {
   "cell_type": "code",
   "execution_count": 27,
   "metadata": {},
   "outputs": [],
   "source": [
    "# Instantiate a Transmission_curve for Bessel B\n",
    "besselB_dat = Table.read(\"../instrumentsim/data/bessell_B.dat\", format=\"ascii\",names=['wave','t'])\n",
    "besselB = tc.Transmission_curve(besselB_dat['wave'].data*u.AA, besselB_dat['t'])"
   ]
  },
  {
   "cell_type": "code",
   "execution_count": 28,
   "metadata": {},
   "outputs": [
    {
     "data": {
      "text/plain": [
       "7.318762952665714"
      ]
     },
     "execution_count": 28,
     "metadata": {},
     "output_type": "execute_result"
    }
   ],
   "source": [
    "# Compute magnitude\n",
    "fluxunits = u.erg*u.s**-1*u.cm**-2*u.AA**-1\n",
    "\n",
    "besselB.synthmag(spectab['FLUX'].data*fluxunits, spectab['WAVELENGTH'].data*u.AA, vega=True)"
   ]
  },
  {
   "cell_type": "code",
   "execution_count": 29,
   "metadata": {},
   "outputs": [
    {
     "data": {
      "text/plain": [
       "6.705425895015934"
      ]
     },
     "execution_count": 29,
     "metadata": {},
     "output_type": "execute_result"
    }
   ],
   "source": [
    "# Repeat for other curves\n",
    "# Bessel V\n",
    "besselV_dat = Table.read(\"../instrumentsim/data/bessell_V.dat\", format=\"ascii\",names=['wave','t'])\n",
    "besselV = tc.Transmission_curve(besselV_dat['wave'].data*u.AA, besselV_dat['t'])\n",
    "\n",
    "besselV.synthmag(spectab['FLUX'].data*fluxunits, spectab['WAVELENGTH'].data*u.AA, vega=True)"
   ]
  },
  {
   "cell_type": "code",
   "execution_count": 30,
   "metadata": {},
   "outputs": [
    {
     "data": {
      "text/plain": [
       "6.0222572656045035"
      ]
     },
     "execution_count": 30,
     "metadata": {},
     "output_type": "execute_result"
    }
   ],
   "source": [
    "# Bessel I\n",
    "besselI_dat = Table.read(\"../instrumentsim/data/bessell_I.dat\", format=\"ascii\",names=['wave','t'])\n",
    "besselI = tc.Transmission_curve(besselI_dat['wave'].data*u.AA, besselI_dat['t'])\n",
    "\n",
    "besselI.synthmag(spectab['FLUX'].data*fluxunits, spectab['WAVELENGTH'].data*u.AA, vega=True)"
   ]
  },
  {
   "cell_type": "code",
   "execution_count": 31,
   "metadata": {},
   "outputs": [
    {
     "data": {
      "text/plain": [
       "7.001331259277503"
      ]
     },
     "execution_count": 31,
     "metadata": {},
     "output_type": "execute_result"
    }
   ],
   "source": [
    "# Sloan g\n",
    "sloang_dat = Table.read(\"../instrumentsim/data/g.dat\", format=\"ascii\",names=['wave','t1','t2','t3','t4'], comment=\"#\")\n",
    "sloang = tc.Transmission_curve(sloang_dat['wave'].data*u.AA, sloang_dat['t1']) # t1 corresponds to point source\n",
    "\n",
    "sloang.synthmag(spectab['FLUX'].data*fluxunits, spectab['WAVELENGTH'].data*u.AA, vega=False)"
   ]
  },
  {
   "cell_type": "code",
   "execution_count": 32,
   "metadata": {},
   "outputs": [
    {
     "data": {
      "text/plain": [
       "6.522946517344841"
      ]
     },
     "execution_count": 32,
     "metadata": {},
     "output_type": "execute_result"
    }
   ],
   "source": [
    "# NIRI J\n",
    "niriJ_dat = Table.read(\"../instrumentsim/data/niri-J-G0202.dat\", format=\"ascii\", data_start=3,names=['wave','t'])\n",
    "niriJ = tc.Transmission_curve(niriJ_dat['wave'].data*u.nm, niriJ_dat['t']/100)\n",
    "\n",
    "niriJ.synthmag(spectab['FLUX'].data*fluxunits, spectab['WAVELENGTH'].data*u.AA, vega=False)"
   ]
  },
  {
   "cell_type": "markdown",
   "metadata": {},
   "source": [
    "### 2. Instrument throughput and atmospheric transmittance\n",
    "Computing photon counts from stars of different V band magnituderequires creation of an effective transmission curve including atmospheric transmission and instrument throughput."
   ]
  },
  {
   "cell_type": "code",
   "execution_count": 88,
   "metadata": {},
   "outputs": [],
   "source": [
    "# Create an effective V band transmission curve including reflective losses, QE and atmospheric transmission.\n",
    "\n",
    "# Read in instrument characteristics\n",
    "Al_refl_dat = Table.read(\"../instrumentsim/data/aluminum.dat\", format=\"ascii\", names=['wave', 'refl'])\n",
    "QE_dat = Table.read(\"../instrumentsim/data/e2vhirhomulti.txt\", format=\"ascii\", comment=\"#\", names=['wave','qe'])\n",
    "\n",
    "# Read in atmospheric transmission\n",
    "atm_opt_dat = Table.read(\"../instrumentsim/data/optical_extinction.dat\", format=\"ascii\")\n",
    "\n",
    "# Interpolate everything\n",
    "Al_refl = interp1d(Al_refl_dat['wave']*1e4, Al_refl_dat['refl']/100, kind=\"cubic\", bounds_error=False, fill_value=0) # (reflectance vs lambda in angstroms)\n",
    "QE = interp1d(QE_dat['wave']*1e4, QE_dat['qe']/100, kind=\"cubic\", bounds_error=False, fill_value=0) # (QE vs lambda in angstroms)\n",
    "atm_opt = interp1d(atm_opt_dat['wavelength'], atm_opt_dat['xatm'], kind=\"cubic\", bounds_error=False, fill_value=0)\n",
    "\n",
    "# Create an effective transmission curve for Bessel V\n",
    "# Atmospheric transmission + Four reflective surfaces + QE + Filter transmission\n",
    "wave = besselV_dat['wave']\n",
    "V_eff = tc.Transmission_curve(wave*u.AA, Al_refl(wave)**4*QE(wave)*atm_opt(wave)*besselV_dat['t'])"
   ]
  },
  {
   "cell_type": "code",
   "execution_count": 69,
   "metadata": {},
   "outputs": [
    {
     "data": {
      "image/png": "[encoded data removed]",
      "text/plain": [
       "<Figure size 432x288 with 1 Axes>"
      ]
     },
     "metadata": {
      "needs_background": "light"
     },
     "output_type": "display_data"
    }
   ],
   "source": [
    "# Visualize\n",
    "plt.plot(V_eff.wave, V_eff.trans)\n",
    "plt.xlabel(r\"$\\rm \\lambda~(\\AA)$\")\n",
    "plt.ylabel(\"Transmitted fraction\")\n",
    "plt.show()"
   ]
  },
  {
   "cell_type": "code",
   "execution_count": 62,
   "metadata": {},
   "outputs": [
    {
     "data": {
      "text/latex": [
       "$3.5747106 \\times 10^{8} \\; \\mathrm{}$"
      ],
      "text/plain": [
       "<Quantity 3.57471061e+08>"
      ]
     },
     "execution_count": 62,
     "metadata": {},
     "output_type": "execute_result"
    }
   ],
   "source": [
    "# Compute total counts from 60 s exposures of stars of different magnitudes.\n",
    "t_exp = 60*u.s\n",
    "area = np.pi*(200*u.cm)**2\n",
    "\n",
    "# mag 10\n",
    "V_eff.magtocounts(10, vega=True)*t_exp*area"
   ]
  },
  {
   "cell_type": "code",
   "execution_count": 64,
   "metadata": {},
   "outputs": [
    {
     "data": {
      "text/latex": [
       "$225548.99 \\; \\mathrm{}$"
      ],
      "text/plain": [
       "<Quantity 225548.99141577>"
      ]
     },
     "execution_count": 64,
     "metadata": {},
     "output_type": "execute_result"
    }
   ],
   "source": [
    "# mag 18\n",
    "V_eff.magtocounts(18, vega=True)*t_exp*area"
   ]
  },
  {
   "cell_type": "code",
   "execution_count": 65,
   "metadata": {},
   "outputs": [
    {
     "data": {
      "text/latex": [
       "$897.92671 \\; \\mathrm{}$"
      ],
      "text/plain": [
       "<Quantity 897.92670794>"
      ]
     },
     "execution_count": 65,
     "metadata": {},
     "output_type": "execute_result"
    }
   ],
   "source": [
    "# mag 24\n",
    "V_eff.magtocounts(24, vega=True)*t_exp*area"
   ]
  },
  {
   "cell_type": "markdown",
   "metadata": {},
   "source": [
    "### 3. Sky counts per pixel"
   ]
  },
  {
   "cell_type": "code",
   "execution_count": 77,
   "metadata": {},
   "outputs": [],
   "source": [
    "# Read in sky emission data\n",
    "sky_dat = Table.read(\"../instrumentsim/data/skybg_50_10.dat\", format=\"ascii\", comment=\"#\", names=[\"wave\", 'ilam'])\n",
    "# convert photon counts to to erg/s/cm^2/AA/arcsec^2\n",
    "sky_dat['wave'] = sky_dat['wave']*10*u.AA # Convert to AA\n",
    "sky_dat['ilam'] = sky_dat['ilam']*(h*c/sky_dat['wave']).to('erg').value/100**2/10*fluxunits/u.arcsec**2"
   ]
  },
  {
   "cell_type": "code",
   "execution_count": 78,
   "metadata": {},
   "outputs": [
    {
     "data": {
      "text/html": [
       "<i>Table length=2511</i>\n",
       "<table id=\"table139989455684688\" class=\"table-striped table-bordered table-condensed\">\n",
       "<thead><tr><th>wave</th><th>ilam</th><th>flam</th></tr></thead>\n",
       "<thead><tr><th>Angstrom</th><th>erg / (Angstrom arcsec2 cm2 s)</th><th>erg / (Angstrom cm2 s)</th></tr></thead>\n",
       "<thead><tr><th>float64</th><th>float64</th><th>float64</th></tr></thead>\n",
       "<tr><td>3200.0</td><td>0.0</td><td>0.0</td></tr>\n",
       "<tr><td>3499.9</td><td>0.0</td><td>0.0</td></tr>\n",
       "<tr><td>3501.7000000000003</td><td>3.6907264319076225e-17</td><td>2.260800609945413e-18</td></tr>\n",
       "<tr><td>3504.3</td><td>3.68685439457142e-17</td><td>2.2584287450746553e-18</td></tr>\n",
       "<tr><td>3507.0</td><td>3.682316657349638e-17</td><td>2.2556490974177375e-18</td></tr>\n",
       "<tr><td>3509.6</td><td>3.678456697518488e-17</td><td>2.2532846307736685e-18</td></tr>\n",
       "<tr><td>3512.3</td><td>3.673932263200591e-17</td><td>2.2505131319768122e-18</td></tr>\n",
       "<tr><td>3514.9</td><td>3.670084325677868e-17</td><td>2.2481560297480487e-18</td></tr>\n",
       "<tr><td>3517.6</td><td>3.666137850981022e-17</td><td>2.2457385673415622e-18</td></tr>\n",
       "<tr><td>...</td><td>...</td><td>...</td></tr>\n",
       "<tr><td>10955.0</td><td>1.6230105827095307e-16</td><td>9.941954200710069e-18</td></tr>\n",
       "<tr><td>10960.0</td><td>6.370038877313524e-17</td><td>3.902046939784366e-18</td></tr>\n",
       "<tr><td>10965.0</td><td>4.8950083958197935e-17</td><td>2.9984985804643622e-18</td></tr>\n",
       "<tr><td>10970.0</td><td>3.133170167045648e-16</td><td>1.9192625504508996e-17</td></tr>\n",
       "<tr><td>10975.0</td><td>5.976821914936587e-16</td><td>3.661176974268343e-17</td></tr>\n",
       "<tr><td>10980.0</td><td>3.2671787817325975e-16</td><td>2.0013512024850742e-17</td></tr>\n",
       "<tr><td>10985.0</td><td>5.684472054572285e-17</td><td>3.482094412928935e-18</td></tr>\n",
       "<tr><td>10990.0</td><td>4.5650297150276e-17</td><td>2.796366014811594e-18</td></tr>\n",
       "<tr><td>10995.0</td><td>4.5177867306835917e-17</td><td>2.7674267342143675e-18</td></tr>\n",
       "<tr><td>11000.0</td><td>5.0815090885739713e-17</td><td>3.112741911069593e-18</td></tr>\n",
       "</table>"
      ],
      "text/plain": [
       "<Table length=2511>\n",
       "       wave                     ilam                       flam         \n",
       "     Angstrom      erg / (Angstrom arcsec2 cm2 s) erg / (Angstrom cm2 s)\n",
       "     float64                  float64                    float64        \n",
       "------------------ ------------------------------ ----------------------\n",
       "            3200.0                            0.0                    0.0\n",
       "            3499.9                            0.0                    0.0\n",
       "3501.7000000000003         3.6907264319076225e-17  2.260800609945413e-18\n",
       "            3504.3           3.68685439457142e-17 2.2584287450746553e-18\n",
       "            3507.0          3.682316657349638e-17 2.2556490974177375e-18\n",
       "            3509.6          3.678456697518488e-17 2.2532846307736685e-18\n",
       "            3512.3          3.673932263200591e-17 2.2505131319768122e-18\n",
       "            3514.9          3.670084325677868e-17 2.2481560297480487e-18\n",
       "            3517.6          3.666137850981022e-17 2.2457385673415622e-18\n",
       "               ...                            ...                    ...\n",
       "           10955.0         1.6230105827095307e-16  9.941954200710069e-18\n",
       "           10960.0          6.370038877313524e-17  3.902046939784366e-18\n",
       "           10965.0         4.8950083958197935e-17 2.9984985804643622e-18\n",
       "           10970.0          3.133170167045648e-16 1.9192625504508996e-17\n",
       "           10975.0          5.976821914936587e-16  3.661176974268343e-17\n",
       "           10980.0         3.2671787817325975e-16 2.0013512024850742e-17\n",
       "           10985.0          5.684472054572285e-17  3.482094412928935e-18\n",
       "           10990.0            4.5650297150276e-17  2.796366014811594e-18\n",
       "           10995.0         4.5177867306835917e-17 2.7674267342143675e-18\n",
       "           11000.0         5.0815090885739713e-17  3.112741911069593e-18"
      ]
     },
     "execution_count": 78,
     "metadata": {},
     "output_type": "execute_result"
    }
   ],
   "source": [
    "# Compute flux per pixel\n",
    "platescale = 16.5*0.015*u.arcsec # arcsec/pixel\n",
    "sky_dat['flam'] = sky_dat['ilam']*platescale**2\n",
    "sky_dat"
   ]
  },
  {
   "cell_type": "code",
   "execution_count": 81,
   "metadata": {},
   "outputs": [],
   "source": [
    "# Create effective B and I bands\n",
    "wave = besselB_dat['wave']\n",
    "B_eff = tc.Transmission_curve(wave*u.AA, Al_refl(wave)**4*QE(wave)*atm_opt(wave)*besselB_dat['t'])\n",
    "\n",
    "wave = besselI_dat['wave']\n",
    "I_eff = tc.Transmission_curve(wave*u.AA, Al_refl(wave)**4*QE(wave)*atm_opt(wave)*besselI_dat['t'])"
   ]
  },
  {
   "cell_type": "code",
   "execution_count": 82,
   "metadata": {},
   "outputs": [
    {
     "data": {
      "image/png": "[encoded data removed]",
      "text/plain": [
       "<Figure size 432x288 with 1 Axes>"
      ]
     },
     "metadata": {
      "needs_background": "light"
     },
     "output_type": "display_data"
    }
   ],
   "source": [
    "plt.plot(B_eff.wave, B_eff.trans, label=\"B band\")\n",
    "plt.plot(I_eff.wave, I_eff.trans, label=\"I band\")\n",
    "plt.legend()\n",
    "plt.xlabel(r\"$\\rm \\lambda~(\\AA)$\")\n",
    "plt.ylabel(\"Transmitted fraction\")\n",
    "plt.show()"
   ]
  },
  {
   "cell_type": "code",
   "execution_count": 85,
   "metadata": {},
   "outputs": [
    {
     "data": {
      "text/latex": [
       "$1305.1025 \\; \\mathrm{}$"
      ],
      "text/plain": [
       "<Quantity 1305.10251363>"
      ]
     },
     "execution_count": 85,
     "metadata": {},
     "output_type": "execute_result"
    }
   ],
   "source": [
    "# Measure counts\n",
    "# B band\n",
    "bcounts = B_eff.synthcounts(sky_dat['flam'], sky_dat['wave'])*t_exp*area\n",
    "bcounts"
   ]
  },
  {
   "cell_type": "code",
   "execution_count": 90,
   "metadata": {
    "scrolled": true
   },
   "outputs": [
    {
     "data": {
      "text/latex": [
       "$3585.6014 \\; \\mathrm{}$"
      ],
      "text/plain": [
       "<Quantity 3585.60135402>"
      ]
     },
     "execution_count": 90,
     "metadata": {},
     "output_type": "execute_result"
    }
   ],
   "source": [
    "# I band\n",
    "icounts = I_eff.synthcounts(sky_dat['flam'], sky_dat['wave'])*t_exp*area\n",
    "icounts"
   ]
  },
  {
   "cell_type": "markdown",
   "metadata": {},
   "source": [
    "## Part 2: PSFs and photometry\n",
    "### 3. Simulating a star\n",
    "The star is given to be 20th magnitude in V band. The instrument has a gaussian PSF. Two images need to be produced simulating different PSF FWHMs. I shall assume the same CCD characteristics as in Assignment 1:\n",
    "\n",
    "platescale: 0.2475''/pixel\n",
    "\n",
    "read_noise: 3 e-\n",
    "\n",
    "dark_current: 3 e-/pixel/hr\n",
    "\n",
    "saturation_counts = 200,000\n",
    "\n",
    "Gain: 1 DN/ e-\n",
    "\n",
    "I shall also assume a 600 s exposure and the collecting area equivalent to a circle of 200 cm diameter."
   ]
  },
  {
   "cell_type": "code",
   "execution_count": 97,
   "metadata": {},
   "outputs": [
    {
     "data": {
      "text/latex": [
       "$595.7851 \\; \\mathrm{\\frac{1}{s}}$"
      ],
      "text/plain": [
       "<Quantity 595.78510177 1 / s>"
      ]
     },
     "execution_count": 97,
     "metadata": {},
     "output_type": "execute_result"
    }
   ],
   "source": [
    "# First compute the count rate from the star in the V band\n",
    "t_exp = 600*u.s\n",
    "area = np.pi*(200*u.cm)**2\n",
    "star_counts = V_eff.magtocounts(20, vega=True)*area\n",
    "star_counts"
   ]
  },
  {
   "cell_type": "code",
   "execution_count": 126,
   "metadata": {},
   "outputs": [
    {
     "data": {
      "text/latex": [
       "$380.54333 \\; \\mathrm{\\frac{1}{s\\,arcsec^{2}}}$"
      ],
      "text/plain": [
       "<Quantity 380.5433322 1 / (arcsec2 s)>"
      ]
     },
     "execution_count": 126,
     "metadata": {},
     "output_type": "execute_result"
    }
   ],
   "source": [
    "# Compute sky background counts in V band\n",
    "sky_bkg = V_eff.synthcounts(sky_dat['flam'], sky_dat['wave'])*area/platescale**2\n",
    "sky_bkg"
   ]
  },
  {
   "cell_type": "code",
   "execution_count": 132,
   "metadata": {},
   "outputs": [],
   "source": [
    "img1, bkg1 = ccd.mock_img(star_counts.value, platescale.value, t_exp.value,\n",
    "                          fwhm = 1.4, bkg_flux=sky_bkg.value,\n",
    "                          gaussianPSF=True)\n",
    "img2, bkg2 = ccd.mock_img(star_counts.value, platescale.value, t_exp.value,\n",
    "                          fwhm = 0.7, bkg_flux=sky_bkg.value,\n",
    "                          gaussianPSF=True)"
   ]
  },
  {
   "cell_type": "code",
   "execution_count": 173,
   "metadata": {},
   "outputs": [
    {
     "data": {
      "image/png": "[encoded data removed]",
      "text/plain": [
       "<Figure size 1008x432 with 4 Axes>"
      ]
     },
     "metadata": {
      "needs_background": "light"
     },
     "output_type": "display_data"
    }
   ],
   "source": [
    "titles = [\"FWHM: 1.4''\", \"FWHM: 0.7''\"]\n",
    "imglist = [img1, img2]\n",
    "\n",
    "# begin plotting\n",
    "fig, axs = plt.subplots(1,2,figsize=(14, 6))\n",
    "fig.subplots_adjust(wspace=0.4)\n",
    "axs[0].set_ylabel(\"Y\")\n",
    "\n",
    "for img, ax, title in zip(imglist, axs, titles):\n",
    "    # get colorbar level ticks\n",
    "    cb_low, cb_high = np.min(img), np.max(img)\n",
    "    cbticks = np.logspace(np.log2(cb_low), np.log2(cb_high), 4, base = 2)\n",
    "\n",
    "    # draw the image\n",
    "    ccd.draw_img(ax,fig, img, cblabel = \"Counts\", cbticks=cbticks, title=title, range=25)\n",
    "\n",
    "    # annotate pixels\n",
    "    # Star\n",
    "    #ax.annotate(str(cb_high), (img.shape[0]/2, img.shape[1]/2), (2060, 2080),\n",
    "    #            arrowprops=dict(arrowstyle=\"->\", connectionstyle=\"angle3\", lw=2),\n",
    "    #            path_effects=[PathEffects.withStroke(linewidth=3,foreground=\"w\")])\n",
    "    # Random background pixel\n",
    "    #ax.annotate(str(img[2060, 2020]), (2060, 2020), (2020, 2040),\n",
    "    #            arrowprops=dict(arrowstyle=\"->\", connectionstyle=\"angle3\", lw=2),\n",
    "    #            path_effects=[PathEffects.withStroke(linewidth=3,foreground=\"w\")])\n",
    "\n",
    "    # Label\n",
    "    ax.set_xlabel(\"X\")\n",
    "# And show\n",
    "plt.show()"
   ]
  },
  {
   "cell_type": "markdown",
   "metadata": {},
   "source": [
    "### 4. Aperture photometry\n",
    "I'll be using apertures of radius $2''$ and $1''$ respectively to compute the star flux and an annulus of inner and outer radii 15 and 20 pixels respectively for the background flux measurement."
   ]
  },
  {
   "cell_type": "code",
   "execution_count": 187,
   "metadata": {},
   "outputs": [
    {
     "data": {
      "text/html": [
       "<i>QTable length=1</i>\n",
       "<table id=\"table139989430668624\" class=\"table-striped table-bordered table-condensed\">\n",
       "<thead><tr><th>id</th><th>xcenter</th><th>ycenter</th><th>aperture_sum_0</th><th>aperture_sum_1</th><th>object_flux</th><th>bkg_flux</th><th>SNR</th></tr></thead>\n",
       "<thead><tr><th></th><th>pix</th><th>pix</th><th></th><th></th><th></th><th></th><th></th></tr></thead>\n",
       "<thead><tr><th>int64</th><th>float64</th><th>float64</th><th>float64</th><th>float64</th><th>float64</th><th>float64</th><th>float64</th></tr></thead>\n",
       "<tr><td>1</td><td>2048.0</td><td>2056.0</td><td>3227569.747964016</td><td>7693745.851637446</td><td>356727.2129177572</td><td>2870842.535046259</td><td>198.5630442965291</td></tr>\n",
       "</table>"
      ],
      "text/plain": [
       "<QTable length=1>\n",
       "  id  xcenter ycenter ...    object_flux         bkg_flux            SNR       \n",
       "        pix     pix   ...                                                      \n",
       "int64 float64 float64 ...      float64           float64           float64     \n",
       "----- ------- ------- ... ----------------- ----------------- -----------------\n",
       "    1  2048.0  2056.0 ... 356727.2129177572 2870842.535046259 198.5630442965291"
      ]
     },
     "execution_count": 187,
     "metadata": {},
     "output_type": "execute_result"
    }
   ],
   "source": [
    "# First image\n",
    "star_x, star_y = img1.shape[0]/2, img1.shape[1]/2 # Star centroid\n",
    "rad1 = 2/platescale.value # Radius of the aperture: 2sigma\n",
    "photom_1 = ccd.circ_aper_photom(img1, star_x, star_y, rad1)\n",
    "photom_1"
   ]
  },
  {
   "cell_type": "code",
   "execution_count": 189,
   "metadata": {},
   "outputs": [
    {
     "data": {
      "text/html": [
       "<i>QTable length=1</i>\n",
       "<table id=\"table139989427033808\" class=\"table-striped table-bordered table-condensed\">\n",
       "<thead><tr><th>id</th><th>xcenter</th><th>ycenter</th><th>aperture_sum_0</th><th>aperture_sum_1</th><th>object_flux</th><th>bkg_flux</th><th>SNR</th></tr></thead>\n",
       "<thead><tr><th></th><th>pix</th><th>pix</th><th></th><th></th><th></th><th></th><th></th></tr></thead>\n",
       "<thead><tr><th>int64</th><th>float64</th><th>float64</th><th>float64</th><th>float64</th><th>float64</th><th>float64</th><th>float64</th></tr></thead>\n",
       "<tr><td>1</td><td>2048.0</td><td>2056.0</td><td>1071757.9770058934</td><td>7691929.363911593</td><td>354216.7941960604</td><td>717541.182809833</td><td>342.15334164131684</td></tr>\n",
       "</table>"
      ],
      "text/plain": [
       "<QTable length=1>\n",
       "  id  xcenter ycenter ...    object_flux        bkg_flux            SNR        \n",
       "        pix     pix   ...                                                      \n",
       "int64 float64 float64 ...      float64          float64           float64      \n",
       "----- ------- ------- ... ----------------- ---------------- ------------------\n",
       "    1  2048.0  2056.0 ... 354216.7941960604 717541.182809833 342.15334164131684"
      ]
     },
     "execution_count": 189,
     "metadata": {},
     "output_type": "execute_result"
    }
   ],
   "source": [
    "# Second image\n",
    "rad2 = 1/platescale.value # Radius of aperture: 2sigma\n",
    "photom_2 = ccd.circ_aper_photom(img2, star_x, star_y, rad2)\n",
    "photom_2"
   ]
  },
  {
   "cell_type": "markdown",
   "metadata": {},
   "source": [
    "Having a smaller PSF gives a higher SNR and this is intuitive because while the sky background level remains unchanged, the source photons are concentrated in fewer pixels. Thus, with the same instrument and exposure time, choosing a location with better seeing ensures better images.\n",
    "\n",
    "### 5. PSF photometry\n",
    "Using `photutils`, one can model the PSF and perform much more accurate photometry for point sources. As the model PSF is gaussian, we can directly use one of the in-built functions, `IntegratedGaussianPRF`, as the PSF model instead of building it from data. One can also automate the process of PSF photometry by using a star-finder algorithm (instead of manually feeding the centroid values) and a grouping algorithm ot speed up fitting. Naturally, none of this is necessary for our test image but this is a scaled solution."
   ]
  },
  {
   "cell_type": "code",
   "execution_count": 192,
   "metadata": {},
   "outputs": [],
   "source": [
    "# Define FWHM. This is found manually using imexam or some such tool\n",
    "fwhm = 2/platescale.value # Guessing for now.\n",
    "\n",
    "# Choose a background estimator\n",
    "bkgrms = MADStdBackgroundRMS()\n",
    "\n",
    "# Estimate background std.dev\n",
    "std = bkgrms(img1)\n",
    "\n",
    "# Find sources above a threshold with the known FWHM\n",
    "# Setting the threshold to 20 times the sky RMS because\n",
    "# the source is known. For a real image, usuall ~3sigma is chosen.\n",
    "iraffind = IRAFStarFinder(threshold=20*std,\n",
    "                          fwhm=fwhm)\n",
    "\n",
    "# Choose a grouping algorithm (when there are multiple sources in the field)\n",
    "daogroup = DAOGroup(2.0*fwhm)\n",
    "\n",
    "# Backgroung model for the PSF fitting\n",
    "mmm_bkg = MMMBackground()\n",
    "\n",
    "# Optimization algorithm for fitting\n",
    "fitter = LevMarLSQFitter()\n",
    "\n",
    "# PSF model\n",
    "psf_model = IntegratedGaussianPRF(sigma=rad1/2)\n",
    "psf_model.sigma.fixed = False # Let the fitter find the exact sigma\n",
    "\n",
    "# Set up PSF photometry tool\n",
    "photometry = IterativelySubtractedPSFPhotometry(finder=iraffind,\n",
    "                                                group_maker=daogroup,\n",
    "                                                bkg_estimator=mmm_bkg,\n",
    "                                                psf_model=psf_model,\n",
    "                                                fitter=LevMarLSQFitter(),\n",
    "                                                niters=1, fitshape=(51,51))\n",
    "\n",
    "# Perform fit\n",
    "result_tab = photometry(image=img1)\n",
    "\n",
    "# Compute residual image\n",
    "residual_image = photometry.get_residual_image()"
   ]
  },
  {
   "cell_type": "code",
   "execution_count": 193,
   "metadata": {},
   "outputs": [
    {
     "data": {
      "text/html": [
       "<i>Table length=1</i>\n",
       "<table id=\"table139989427163600\" class=\"table-striped table-bordered table-condensed\">\n",
       "<thead><tr><th>x_0</th><th>x_fit</th><th>y_0</th><th>y_fit</th><th>flux_0</th><th>flux_fit</th><th>sigma_0</th><th>sigma_fit</th><th>id</th><th>group_id</th><th>flux_unc</th><th>x_0_unc</th><th>y_0_unc</th><th>sigma_unc</th><th>iter_detected</th></tr></thead>\n",
       "<thead><tr><th>float64</th><th>float64</th><th>float64</th><th>float64</th><th>float64</th><th>float64</th><th>float64</th><th>float64</th><th>int64</th><th>int64</th><th>float64</th><th>float64</th><th>float64</th><th>float64</th><th>int32</th></tr></thead>\n",
       "<tr><td>2048.024914599773</td><td>2048.0098464023927</td><td>2056.0118966003083</td><td>2056.0052295758965</td><td>358962.4836075398</td><td>360792.742960714</td><td>4.040404040404041</td><td>2.4009260685680247</td><td>1</td><td>1</td><td>1430.318365632633</td><td>0.009605619452153158</td><td>0.009605769735793964</td><td>0.006838229996717922</td><td>1</td></tr>\n",
       "</table>"
      ],
      "text/plain": [
       "<Table length=1>\n",
       "       x_0              x_fit        ...      sigma_unc       iter_detected\n",
       "     float64           float64       ...       float64            int32    \n",
       "----------------- ------------------ ... -------------------- -------------\n",
       "2048.024914599773 2048.0098464023927 ... 0.006838229996717922             1"
      ]
     },
     "execution_count": 193,
     "metadata": {},
     "output_type": "execute_result"
    }
   ],
   "source": [
    "# Look at results\n",
    "result_tab"
   ]
  },
  {
   "cell_type": "markdown",
   "metadata": {},
   "source": [
    "Great, our star has been found! The table columns with `fit` in their names correspond to the parameters obtained by the fitter. The source counts from fitting correspond to `flux_fit`. Clearly, the fit has managed to capture more counts (\\~360,000) than the aperture photometry (\\~300,000). The uncertainty in the flux comes from the fitting process and therefore the signal to noise here is given by:"
   ]
  },
  {
   "cell_type": "code",
   "execution_count": 194,
   "metadata": {},
   "outputs": [
    {
     "data": {
      "text/plain": [
       "252.24645899106144"
      ]
     },
     "execution_count": 194,
     "metadata": {},
     "output_type": "execute_result"
    }
   ],
   "source": [
    "snr = result_tab['flux_fit']/result_tab['flux_unc']\n",
    "snr[0]"
   ]
  },
  {
   "cell_type": "markdown",
   "metadata": {},
   "source": [
    "This is \\~25% higher than the aperture photometry SNR. The extra counts certainly help."
   ]
  }
 ],
 "metadata": {
  "kernelspec": {
   "display_name": "Python 3",
   "language": "python",
   "name": "python3"
  },
  "language_info": {
   "codemirror_mode": {
    "name": "ipython",
    "version": 3
   },
   "file_extension": ".py",
   "mimetype": "text/x-python",
   "name": "python",
   "nbconvert_exporter": "python",
   "pygments_lexer": "ipython3",
   "version": "3.7.4"
  }
 },
 "nbformat": 4,
 "nbformat_minor": 2
}
